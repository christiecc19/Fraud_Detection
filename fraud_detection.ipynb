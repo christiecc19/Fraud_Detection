{
 "cells": [
  {
   "cell_type": "code",
   "execution_count": 2,
   "metadata": {},
   "outputs": [],
   "source": [
    "import pandas as pd\n",
    "import numpy as np\n",
    "import time\n",
    "import matplotlib.pyplot as plt"
   ]
  },
  {
   "cell_type": "code",
   "execution_count": 3,
   "metadata": {},
   "outputs": [],
   "source": [
    "from sklearn import metrics\n",
    "from sklearn.metrics import roc_curve\n",
    "from sklearn.model_selection import train_test_split\n",
    "from sklearn.linear_model import LogisticRegression\n",
    "from sklearn.ensemble import RandomForestClassifier\n",
    "from imblearn.over_sampling import SMOTE\n",
    "from sklearn import preprocessing\n",
    "from sklearn.preprocessing import MinMaxScaler\n",
    "from sklearn.metrics import f1_score, roc_auc_score, roc_curve, precision_recall_curve, auc, make_scorer, recall_score, accuracy_score, precision_score, confusion_matrix\n",
    "from sklearn.model_selection import GridSearchCV\n",
    "\n",
    "pd.set_option('display.max_columns', 500)"
   ]
  },
  {
   "cell_type": "code",
   "execution_count": 4,
   "metadata": {},
   "outputs": [],
   "source": [
    "# Import and store dataset\n",
    "fraud_data = pd.read_csv('imbalancedFraudDF.csv')\n",
    "ipToCountry = pd.read_csv('IpAddress_to_Country.csv')"
   ]
  },
  {
   "cell_type": "code",
   "execution_count": 5,
   "metadata": {},
   "outputs": [
    {
     "name": "stdout",
     "output_type": "stream",
     "text": [
      "0.21.3\n"
     ]
    }
   ],
   "source": [
    "import sklearn\n",
    "print(sklearn.__version__)"
   ]
  },
  {
   "cell_type": "code",
   "execution_count": 8,
   "metadata": {},
   "outputs": [],
   "source": [
    "import matplotlib.pyplot as plt\n",
    "import statsmodels.formula.api as sm\n",
    "import seaborn as sns\n",
    "%matplotlib inline"
   ]
  },
  {
   "cell_type": "code",
   "execution_count": 24,
   "metadata": {},
   "outputs": [
    {
     "data": {
      "text/plain": [
       "<matplotlib.axes._subplots.AxesSubplot at 0x1a1d0e33c8>"
      ]
     },
     "execution_count": 24,
     "metadata": {},
     "output_type": "execute_result"
    },
    {
     "data": {
      "image/png": "[encoded data removed]",
      "text/plain": [
       "<Figure size 432x288 with 1 Axes>"
      ]
     },
     "metadata": {},
     "output_type": "display_data"
    }
   ],
   "source": [
    "sns.set_style('whitegrid')\n",
    "sns.countplot(x='class',data=fraud_data,palette='RdBu_r')"
   ]
  },
  {
   "cell_type": "code",
   "execution_count": 6,
   "metadata": {},
   "outputs": [
    {
     "data": {
      "text/plain": [
       "0    136961\n",
       "1      1415\n",
       "Name: class, dtype: int64"
      ]
     },
     "execution_count": 6,
     "metadata": {},
     "output_type": "execute_result"
    }
   ],
   "source": [
    "#Distribution of the label column\n",
    "fraud_data['class'].value_counts()"
   ]
  },
  {
   "cell_type": "code",
   "execution_count": 9,
   "metadata": {},
   "outputs": [
    {
     "data": {
      "text/html": [
       "<div>\n",
       "<style scoped>\n",
       "    .dataframe tbody tr th:only-of-type {\n",
       "        vertical-align: middle;\n",
       "    }\n",
       "\n",
       "    .dataframe tbody tr th {\n",
       "        vertical-align: top;\n",
       "    }\n",
       "\n",
       "    .dataframe thead th {\n",
       "        text-align: right;\n",
       "    }\n",
       "</style>\n",
       "<table border=\"1\" class=\"dataframe\">\n",
       "  <thead>\n",
       "    <tr style=\"text-align: right;\">\n",
       "      <th></th>\n",
       "      <th>user_id</th>\n",
       "      <th>signup_time</th>\n",
       "      <th>purchase_time</th>\n",
       "      <th>purchase_value</th>\n",
       "      <th>device_id</th>\n",
       "      <th>source</th>\n",
       "      <th>browser</th>\n",
       "      <th>sex</th>\n",
       "      <th>age</th>\n",
       "      <th>ip_address</th>\n",
       "      <th>class</th>\n",
       "    </tr>\n",
       "  </thead>\n",
       "  <tbody>\n",
       "    <tr>\n",
       "      <th>0</th>\n",
       "      <td>22058</td>\n",
       "      <td>2015-02-24 22:55:49</td>\n",
       "      <td>2015-04-18 02:47:11</td>\n",
       "      <td>34</td>\n",
       "      <td>QVPSPJUOCKZAR</td>\n",
       "      <td>SEO</td>\n",
       "      <td>Chrome</td>\n",
       "      <td>M</td>\n",
       "      <td>39</td>\n",
       "      <td>7.327584e+08</td>\n",
       "      <td>0</td>\n",
       "    </tr>\n",
       "    <tr>\n",
       "      <th>1</th>\n",
       "      <td>333320</td>\n",
       "      <td>2015-06-07 20:39:50</td>\n",
       "      <td>2015-06-08 01:38:54</td>\n",
       "      <td>16</td>\n",
       "      <td>EOGFQPIZPYXFZ</td>\n",
       "      <td>Ads</td>\n",
       "      <td>Chrome</td>\n",
       "      <td>F</td>\n",
       "      <td>53</td>\n",
       "      <td>3.503114e+08</td>\n",
       "      <td>0</td>\n",
       "    </tr>\n",
       "    <tr>\n",
       "      <th>2</th>\n",
       "      <td>150084</td>\n",
       "      <td>2015-04-28 21:13:25</td>\n",
       "      <td>2015-05-04 13:54:50</td>\n",
       "      <td>44</td>\n",
       "      <td>ATGTXKYKUDUQN</td>\n",
       "      <td>SEO</td>\n",
       "      <td>Safari</td>\n",
       "      <td>M</td>\n",
       "      <td>41</td>\n",
       "      <td>3.840542e+09</td>\n",
       "      <td>0</td>\n",
       "    </tr>\n",
       "  </tbody>\n",
       "</table>\n",
       "</div>"
      ],
      "text/plain": [
       "   user_id          signup_time        purchase_time  purchase_value  \\\n",
       "0    22058  2015-02-24 22:55:49  2015-04-18 02:47:11              34   \n",
       "1   333320  2015-06-07 20:39:50  2015-06-08 01:38:54              16   \n",
       "2   150084  2015-04-28 21:13:25  2015-05-04 13:54:50              44   \n",
       "\n",
       "       device_id source browser sex  age    ip_address  class  \n",
       "0  QVPSPJUOCKZAR    SEO  Chrome   M   39  7.327584e+08      0  \n",
       "1  EOGFQPIZPYXFZ    Ads  Chrome   F   53  3.503114e+08      0  \n",
       "2  ATGTXKYKUDUQN    SEO  Safari   M   41  3.840542e+09      0  "
      ]
     },
     "execution_count": 9,
     "metadata": {},
     "output_type": "execute_result"
    }
   ],
   "source": [
    "fraud_data.head(3)"
   ]
  },
  {
   "cell_type": "code",
   "execution_count": 10,
   "metadata": {},
   "outputs": [
    {
     "name": "stdout",
     "output_type": "stream",
     "text": [
      "<class 'pandas.core.frame.DataFrame'>\n",
      "RangeIndex: 138376 entries, 0 to 138375\n",
      "Data columns (total 11 columns):\n",
      "user_id           138376 non-null int64\n",
      "signup_time       138376 non-null object\n",
      "purchase_time     138376 non-null object\n",
      "purchase_value    138376 non-null int64\n",
      "device_id         138376 non-null object\n",
      "source            138376 non-null object\n",
      "browser           138376 non-null object\n",
      "sex               138376 non-null object\n",
      "age               138376 non-null int64\n",
      "ip_address        138376 non-null float64\n",
      "class             138376 non-null int64\n",
      "dtypes: float64(1), int64(4), object(6)\n",
      "memory usage: 11.6+ MB\n"
     ]
    }
   ],
   "source": [
    "fraud_data.info()"
   ]
  },
  {
   "cell_type": "code",
   "execution_count": 11,
   "metadata": {},
   "outputs": [
    {
     "data": {
      "text/html": [
       "<div>\n",
       "<style scoped>\n",
       "    .dataframe tbody tr th:only-of-type {\n",
       "        vertical-align: middle;\n",
       "    }\n",
       "\n",
       "    .dataframe tbody tr th {\n",
       "        vertical-align: top;\n",
       "    }\n",
       "\n",
       "    .dataframe thead th {\n",
       "        text-align: right;\n",
       "    }\n",
       "</style>\n",
       "<table border=\"1\" class=\"dataframe\">\n",
       "  <thead>\n",
       "    <tr style=\"text-align: right;\">\n",
       "      <th></th>\n",
       "      <th>lower_bound_ip_address</th>\n",
       "      <th>upper_bound_ip_address</th>\n",
       "      <th>country</th>\n",
       "    </tr>\n",
       "  </thead>\n",
       "  <tbody>\n",
       "    <tr>\n",
       "      <th>0</th>\n",
       "      <td>16777216.0</td>\n",
       "      <td>16777471</td>\n",
       "      <td>Australia</td>\n",
       "    </tr>\n",
       "    <tr>\n",
       "      <th>1</th>\n",
       "      <td>16777472.0</td>\n",
       "      <td>16777727</td>\n",
       "      <td>China</td>\n",
       "    </tr>\n",
       "  </tbody>\n",
       "</table>\n",
       "</div>"
      ],
      "text/plain": [
       "   lower_bound_ip_address  upper_bound_ip_address    country\n",
       "0              16777216.0                16777471  Australia\n",
       "1              16777472.0                16777727      China"
      ]
     },
     "execution_count": 11,
     "metadata": {},
     "output_type": "execute_result"
    }
   ],
   "source": [
    "ipToCountry.head(2)"
   ]
  },
  {
   "cell_type": "code",
   "execution_count": 12,
   "metadata": {},
   "outputs": [
    {
     "name": "stdout",
     "output_type": "stream",
     "text": [
      "Lookup took 147.58873391151428 seconds.\n"
     ]
    }
   ],
   "source": [
    "#Task 1: Identify country info based on ip_address\n",
    "start = time.time()\n",
    "\n",
    "countries = []\n",
    "for i in range(len(fraud_data)):\n",
    "    ip_address = fraud_data.loc[i, 'ip_address']\n",
    "    tmp = ipToCountry[(ipToCountry['lower_bound_ip_address'] <= ip_address) &\n",
    "                    (ipToCountry['upper_bound_ip_address'] >= ip_address)]\n",
    "    if len(tmp) == 1:#found match\n",
    "        countries.append(tmp['country'].values[0])\n",
    "    else:#no match\n",
    "        countries.append('NA')\n",
    "        \n",
    "fraud_data['country'] = countries\n",
    "print(\"Lookup took\", time.time() - start, \"seconds.\")"
   ]
  },
  {
   "cell_type": "code",
   "execution_count": 13,
   "metadata": {},
   "outputs": [
    {
     "name": "stdout",
     "output_type": "stream",
     "text": [
      "138376\n",
      "138376\n"
     ]
    }
   ],
   "source": [
    "print(fraud_data.user_id.nunique())#138289\n",
    "print (len(fraud_data.index))#138376"
   ]
  },
  {
   "cell_type": "code",
   "execution_count": 15,
   "metadata": {},
   "outputs": [
    {
     "name": "stdout",
     "output_type": "stream",
     "text": [
      "138376\n"
     ]
    }
   ],
   "source": [
    "print(fraud_data['user_id'].nunique())"
   ]
  },
  {
   "cell_type": "code",
   "execution_count": 17,
   "metadata": {},
   "outputs": [],
   "source": [
    "#time related features: can be done before split, as they has no interaction between other rows, solely based on other columns of the same row\n",
    "fraud_data['interval_after_signup'] = (pd.to_datetime(fraud_data['purchase_time']) - pd.to_datetime(\n",
    "        fraud_data['signup_time'])).dt.total_seconds()\n",
    "\n",
    "fraud_data['signup_days_of_year'] = pd.DatetimeIndex(fraud_data['signup_time']).dayofyear\n",
    "\n",
    "fraud_data['signup_seconds_of_day'] = pd.DatetimeIndex(fraud_data['signup_time']).second + 60 * pd.DatetimeIndex(\n",
    "    fraud_data['signup_time']).minute + 3600 * pd.DatetimeIndex(fraud_data['signup_time']).hour\n",
    "\n",
    "fraud_data['purchase_days_of_year'] = pd.DatetimeIndex(fraud_data['purchase_time']).dayofyear\n",
    "fraud_data['purchase_seconds_of_day'] = pd.DatetimeIndex(fraud_data['purchase_time']).second + 60 * pd.DatetimeIndex(\n",
    "    fraud_data['purchase_time']).minute + 3600 * pd.DatetimeIndex(fraud_data['purchase_time']).hour\n",
    "\n",
    "fraud_data = fraud_data.drop(['user_id','signup_time','purchase_time'], axis=1)\n"
   ]
  },
  {
   "cell_type": "code",
   "execution_count": 18,
   "metadata": {},
   "outputs": [
    {
     "name": "stdout",
     "output_type": "stream",
     "text": [
      "SEO       55766\n",
      "Ads       54913\n",
      "Direct    27697\n",
      "Name: source, dtype: int64\n"
     ]
    }
   ],
   "source": [
    "print(fraud_data.source.value_counts())"
   ]
  },
  {
   "cell_type": "code",
   "execution_count": 19,
   "metadata": {},
   "outputs": [
    {
     "name": "stdout",
     "output_type": "stream",
     "text": [
      "SEO       55766\n",
      "Ads       54913\n",
      "Direct    27697\n",
      "Name: source, dtype: int64\n"
     ]
    }
   ],
   "source": [
    "print(fraud_data['source'].value_counts())"
   ]
  },
  {
   "cell_type": "code",
   "execution_count": 20,
   "metadata": {},
   "outputs": [
    {
     "data": {
      "text/html": [
       "<div>\n",
       "<style scoped>\n",
       "    .dataframe tbody tr th:only-of-type {\n",
       "        vertical-align: middle;\n",
       "    }\n",
       "\n",
       "    .dataframe tbody tr th {\n",
       "        vertical-align: top;\n",
       "    }\n",
       "\n",
       "    .dataframe thead th {\n",
       "        text-align: right;\n",
       "    }\n",
       "</style>\n",
       "<table border=\"1\" class=\"dataframe\">\n",
       "  <thead>\n",
       "    <tr style=\"text-align: right;\">\n",
       "      <th></th>\n",
       "      <th>purchase_value</th>\n",
       "      <th>device_id</th>\n",
       "      <th>source</th>\n",
       "      <th>browser</th>\n",
       "      <th>sex</th>\n",
       "      <th>age</th>\n",
       "      <th>ip_address</th>\n",
       "      <th>class</th>\n",
       "      <th>country</th>\n",
       "      <th>interval_after_signup</th>\n",
       "      <th>signup_days_of_year</th>\n",
       "      <th>signup_seconds_of_day</th>\n",
       "      <th>purchase_days_of_year</th>\n",
       "      <th>purchase_seconds_of_day</th>\n",
       "    </tr>\n",
       "  </thead>\n",
       "  <tbody>\n",
       "    <tr>\n",
       "      <th>0</th>\n",
       "      <td>34</td>\n",
       "      <td>QVPSPJUOCKZAR</td>\n",
       "      <td>SEO</td>\n",
       "      <td>Chrome</td>\n",
       "      <td>M</td>\n",
       "      <td>39</td>\n",
       "      <td>7.327584e+08</td>\n",
       "      <td>0</td>\n",
       "      <td>Japan</td>\n",
       "      <td>4506682.0</td>\n",
       "      <td>55</td>\n",
       "      <td>82549</td>\n",
       "      <td>108</td>\n",
       "      <td>10031</td>\n",
       "    </tr>\n",
       "    <tr>\n",
       "      <th>1</th>\n",
       "      <td>16</td>\n",
       "      <td>EOGFQPIZPYXFZ</td>\n",
       "      <td>Ads</td>\n",
       "      <td>Chrome</td>\n",
       "      <td>F</td>\n",
       "      <td>53</td>\n",
       "      <td>3.503114e+08</td>\n",
       "      <td>0</td>\n",
       "      <td>United States</td>\n",
       "      <td>17944.0</td>\n",
       "      <td>158</td>\n",
       "      <td>74390</td>\n",
       "      <td>159</td>\n",
       "      <td>5934</td>\n",
       "    </tr>\n",
       "  </tbody>\n",
       "</table>\n",
       "</div>"
      ],
      "text/plain": [
       "   purchase_value      device_id source browser sex  age    ip_address  class  \\\n",
       "0              34  QVPSPJUOCKZAR    SEO  Chrome   M   39  7.327584e+08      0   \n",
       "1              16  EOGFQPIZPYXFZ    Ads  Chrome   F   53  3.503114e+08      0   \n",
       "\n",
       "         country  interval_after_signup  signup_days_of_year  \\\n",
       "0          Japan              4506682.0                   55   \n",
       "1  United States                17944.0                  158   \n",
       "\n",
       "   signup_seconds_of_day  purchase_days_of_year  purchase_seconds_of_day  \n",
       "0                  82549                    108                    10031  \n",
       "1                  74390                    159                     5934  "
      ]
     },
     "execution_count": 20,
     "metadata": {},
     "output_type": "execute_result"
    }
   ],
   "source": [
    "fraud_data.head(2)"
   ]
  },
  {
   "cell_type": "code",
   "execution_count": 21,
   "metadata": {},
   "outputs": [
    {
     "data": {
      "text/html": [
       "<div>\n",
       "<style scoped>\n",
       "    .dataframe tbody tr th:only-of-type {\n",
       "        vertical-align: middle;\n",
       "    }\n",
       "\n",
       "    .dataframe tbody tr th {\n",
       "        vertical-align: top;\n",
       "    }\n",
       "\n",
       "    .dataframe thead th {\n",
       "        text-align: right;\n",
       "    }\n",
       "</style>\n",
       "<table border=\"1\" class=\"dataframe\">\n",
       "  <thead>\n",
       "    <tr style=\"text-align: right;\">\n",
       "      <th></th>\n",
       "      <th>purchase_value</th>\n",
       "      <th>age</th>\n",
       "      <th>ip_address</th>\n",
       "      <th>class</th>\n",
       "      <th>interval_after_signup</th>\n",
       "      <th>signup_days_of_year</th>\n",
       "      <th>signup_seconds_of_day</th>\n",
       "      <th>purchase_days_of_year</th>\n",
       "      <th>purchase_seconds_of_day</th>\n",
       "    </tr>\n",
       "  </thead>\n",
       "  <tbody>\n",
       "    <tr>\n",
       "      <th>count</th>\n",
       "      <td>138376.000000</td>\n",
       "      <td>138376.000000</td>\n",
       "      <td>1.383760e+05</td>\n",
       "      <td>138376.000000</td>\n",
       "      <td>1.383760e+05</td>\n",
       "      <td>138376.000000</td>\n",
       "      <td>138376.000000</td>\n",
       "      <td>138376.000000</td>\n",
       "      <td>138376.000000</td>\n",
       "    </tr>\n",
       "    <tr>\n",
       "      <th>mean</th>\n",
       "      <td>36.938985</td>\n",
       "      <td>33.125867</td>\n",
       "      <td>2.154381e+09</td>\n",
       "      <td>0.010226</td>\n",
       "      <td>5.164377e+06</td>\n",
       "      <td>114.412449</td>\n",
       "      <td>43131.536733</td>\n",
       "      <td>174.183991</td>\n",
       "      <td>43247.600191</td>\n",
       "    </tr>\n",
       "    <tr>\n",
       "      <th>std</th>\n",
       "      <td>18.321091</td>\n",
       "      <td>8.623645</td>\n",
       "      <td>1.250563e+09</td>\n",
       "      <td>0.100605</td>\n",
       "      <td>3.004642e+06</td>\n",
       "      <td>66.389783</td>\n",
       "      <td>24949.850767</td>\n",
       "      <td>75.410596</td>\n",
       "      <td>24935.829856</td>\n",
       "    </tr>\n",
       "    <tr>\n",
       "      <th>min</th>\n",
       "      <td>9.000000</td>\n",
       "      <td>18.000000</td>\n",
       "      <td>5.209350e+04</td>\n",
       "      <td>0.000000</td>\n",
       "      <td>1.000000e+00</td>\n",
       "      <td>1.000000</td>\n",
       "      <td>0.000000</td>\n",
       "      <td>1.000000</td>\n",
       "      <td>0.000000</td>\n",
       "    </tr>\n",
       "    <tr>\n",
       "      <th>25%</th>\n",
       "      <td>22.000000</td>\n",
       "      <td>27.000000</td>\n",
       "      <td>1.085079e+09</td>\n",
       "      <td>0.000000</td>\n",
       "      <td>2.549188e+06</td>\n",
       "      <td>57.000000</td>\n",
       "      <td>21452.750000</td>\n",
       "      <td>117.000000</td>\n",
       "      <td>21698.750000</td>\n",
       "    </tr>\n",
       "    <tr>\n",
       "      <th>50%</th>\n",
       "      <td>35.000000</td>\n",
       "      <td>33.000000</td>\n",
       "      <td>2.156471e+09</td>\n",
       "      <td>0.000000</td>\n",
       "      <td>5.165848e+06</td>\n",
       "      <td>114.000000</td>\n",
       "      <td>43216.000000</td>\n",
       "      <td>174.000000</td>\n",
       "      <td>43335.500000</td>\n",
       "    </tr>\n",
       "    <tr>\n",
       "      <th>75%</th>\n",
       "      <td>49.000000</td>\n",
       "      <td>39.000000</td>\n",
       "      <td>3.249150e+09</td>\n",
       "      <td>0.000000</td>\n",
       "      <td>7.768159e+06</td>\n",
       "      <td>172.000000</td>\n",
       "      <td>64676.000000</td>\n",
       "      <td>232.000000</td>\n",
       "      <td>64776.750000</td>\n",
       "    </tr>\n",
       "    <tr>\n",
       "      <th>max</th>\n",
       "      <td>154.000000</td>\n",
       "      <td>76.000000</td>\n",
       "      <td>4.294850e+09</td>\n",
       "      <td>1.000000</td>\n",
       "      <td>1.036797e+07</td>\n",
       "      <td>230.000000</td>\n",
       "      <td>86398.000000</td>\n",
       "      <td>350.000000</td>\n",
       "      <td>86399.000000</td>\n",
       "    </tr>\n",
       "  </tbody>\n",
       "</table>\n",
       "</div>"
      ],
      "text/plain": [
       "       purchase_value            age    ip_address          class  \\\n",
       "count   138376.000000  138376.000000  1.383760e+05  138376.000000   \n",
       "mean        36.938985      33.125867  2.154381e+09       0.010226   \n",
       "std         18.321091       8.623645  1.250563e+09       0.100605   \n",
       "min          9.000000      18.000000  5.209350e+04       0.000000   \n",
       "25%         22.000000      27.000000  1.085079e+09       0.000000   \n",
       "50%         35.000000      33.000000  2.156471e+09       0.000000   \n",
       "75%         49.000000      39.000000  3.249150e+09       0.000000   \n",
       "max        154.000000      76.000000  4.294850e+09       1.000000   \n",
       "\n",
       "       interval_after_signup  signup_days_of_year  signup_seconds_of_day  \\\n",
       "count           1.383760e+05        138376.000000          138376.000000   \n",
       "mean            5.164377e+06           114.412449           43131.536733   \n",
       "std             3.004642e+06            66.389783           24949.850767   \n",
       "min             1.000000e+00             1.000000               0.000000   \n",
       "25%             2.549188e+06            57.000000           21452.750000   \n",
       "50%             5.165848e+06           114.000000           43216.000000   \n",
       "75%             7.768159e+06           172.000000           64676.000000   \n",
       "max             1.036797e+07           230.000000           86398.000000   \n",
       "\n",
       "       purchase_days_of_year  purchase_seconds_of_day  \n",
       "count          138376.000000            138376.000000  \n",
       "mean              174.183991             43247.600191  \n",
       "std                75.410596             24935.829856  \n",
       "min                 1.000000                 0.000000  \n",
       "25%               117.000000             21698.750000  \n",
       "50%               174.000000             43335.500000  \n",
       "75%               232.000000             64776.750000  \n",
       "max               350.000000             86399.000000  "
      ]
     },
     "execution_count": 21,
     "metadata": {},
     "output_type": "execute_result"
    }
   ],
   "source": [
    "fraud_data.describe()"
   ]
  },
  {
   "cell_type": "code",
   "execution_count": 22,
   "metadata": {},
   "outputs": [
    {
     "data": {
      "text/plain": [
       "<matplotlib.axes._subplots.AxesSubplot at 0x1a1e0864e0>"
      ]
     },
     "execution_count": 22,
     "metadata": {},
     "output_type": "execute_result"
    },
    {
     "data": {
      "image/png": "[encoded data removed]",
      "text/plain": [
       "<Figure size 432x288 with 2 Axes>"
      ]
     },
     "metadata": {
      "needs_background": "light"
     },
     "output_type": "display_data"
    }
   ],
   "source": [
    "sns.heatmap(fraud_data.isnull(),cmap = 'YlGnBu')"
   ]
  },
  {
   "cell_type": "code",
   "execution_count": 23,
   "metadata": {},
   "outputs": [
    {
     "data": {
      "text/plain": [
       "(138376, 14)"
      ]
     },
     "execution_count": 23,
     "metadata": {},
     "output_type": "execute_result"
    }
   ],
   "source": [
    "fraud_data.shape"
   ]
  },
  {
   "cell_type": "code",
   "execution_count": 25,
   "metadata": {},
   "outputs": [
    {
     "data": {
      "text/plain": [
       "<matplotlib.axes._subplots.AxesSubplot at 0x1a1c326a90>"
      ]
     },
     "execution_count": 25,
     "metadata": {},
     "output_type": "execute_result"
    },
    {
     "data": {
      "image/png": "[encoded data removed]",
      "text/plain": [
       "<Figure size 432x288 with 2 Axes>"
      ]
     },
     "metadata": {},
     "output_type": "display_data"
    }
   ],
   "source": [
    "sns.heatmap(fraud_data.corr(),cmap = 'coolwarm')"
   ]
  },
  {
   "cell_type": "code",
   "execution_count": 26,
   "metadata": {},
   "outputs": [
    {
     "data": {
      "text/html": [
       "<div>\n",
       "<style scoped>\n",
       "    .dataframe tbody tr th:only-of-type {\n",
       "        vertical-align: middle;\n",
       "    }\n",
       "\n",
       "    .dataframe tbody tr th {\n",
       "        vertical-align: top;\n",
       "    }\n",
       "\n",
       "    .dataframe thead th {\n",
       "        text-align: right;\n",
       "    }\n",
       "</style>\n",
       "<table border=\"1\" class=\"dataframe\">\n",
       "  <thead>\n",
       "    <tr style=\"text-align: right;\">\n",
       "      <th></th>\n",
       "      <th>purchase_value</th>\n",
       "      <th>age</th>\n",
       "      <th>ip_address</th>\n",
       "      <th>class</th>\n",
       "      <th>interval_after_signup</th>\n",
       "      <th>signup_days_of_year</th>\n",
       "      <th>signup_seconds_of_day</th>\n",
       "      <th>purchase_days_of_year</th>\n",
       "      <th>purchase_seconds_of_day</th>\n",
       "    </tr>\n",
       "  </thead>\n",
       "  <tbody>\n",
       "    <tr>\n",
       "      <th>purchase_value</th>\n",
       "      <td>1.000000</td>\n",
       "      <td>0.001804</td>\n",
       "      <td>-0.000755</td>\n",
       "      <td>0.005138</td>\n",
       "      <td>0.003421</td>\n",
       "      <td>0.004596</td>\n",
       "      <td>0.004000</td>\n",
       "      <td>0.005619</td>\n",
       "      <td>0.005154</td>\n",
       "    </tr>\n",
       "    <tr>\n",
       "      <th>age</th>\n",
       "      <td>0.001804</td>\n",
       "      <td>1.000000</td>\n",
       "      <td>-0.000980</td>\n",
       "      <td>0.004006</td>\n",
       "      <td>0.004022</td>\n",
       "      <td>-0.000366</td>\n",
       "      <td>-0.000472</td>\n",
       "      <td>0.001533</td>\n",
       "      <td>-0.000309</td>\n",
       "    </tr>\n",
       "    <tr>\n",
       "      <th>ip_address</th>\n",
       "      <td>-0.000755</td>\n",
       "      <td>-0.000980</td>\n",
       "      <td>1.000000</td>\n",
       "      <td>0.001150</td>\n",
       "      <td>0.001669</td>\n",
       "      <td>-0.000535</td>\n",
       "      <td>-0.002602</td>\n",
       "      <td>0.000289</td>\n",
       "      <td>-0.000047</td>\n",
       "    </tr>\n",
       "    <tr>\n",
       "      <th>class</th>\n",
       "      <td>0.005138</td>\n",
       "      <td>0.004006</td>\n",
       "      <td>0.001150</td>\n",
       "      <td>1.000000</td>\n",
       "      <td>-0.087757</td>\n",
       "      <td>-0.088310</td>\n",
       "      <td>0.000697</td>\n",
       "      <td>-0.118196</td>\n",
       "      <td>-0.004403</td>\n",
       "    </tr>\n",
       "    <tr>\n",
       "      <th>interval_after_signup</th>\n",
       "      <td>0.003421</td>\n",
       "      <td>0.004022</td>\n",
       "      <td>0.001669</td>\n",
       "      <td>-0.087757</td>\n",
       "      <td>1.000000</td>\n",
       "      <td>0.015123</td>\n",
       "      <td>0.000386</td>\n",
       "      <td>0.474458</td>\n",
       "      <td>0.003276</td>\n",
       "    </tr>\n",
       "    <tr>\n",
       "      <th>signup_days_of_year</th>\n",
       "      <td>0.004596</td>\n",
       "      <td>-0.000366</td>\n",
       "      <td>-0.000535</td>\n",
       "      <td>-0.088310</td>\n",
       "      <td>0.015123</td>\n",
       "      <td>1.000000</td>\n",
       "      <td>-0.001340</td>\n",
       "      <td>0.887336</td>\n",
       "      <td>0.002630</td>\n",
       "    </tr>\n",
       "    <tr>\n",
       "      <th>signup_seconds_of_day</th>\n",
       "      <td>0.004000</td>\n",
       "      <td>-0.000472</td>\n",
       "      <td>-0.002602</td>\n",
       "      <td>0.000697</td>\n",
       "      <td>0.000386</td>\n",
       "      <td>-0.001340</td>\n",
       "      <td>1.000000</td>\n",
       "      <td>0.002806</td>\n",
       "      <td>0.005607</td>\n",
       "    </tr>\n",
       "    <tr>\n",
       "      <th>purchase_days_of_year</th>\n",
       "      <td>0.005619</td>\n",
       "      <td>0.001533</td>\n",
       "      <td>0.000289</td>\n",
       "      <td>-0.118196</td>\n",
       "      <td>0.474458</td>\n",
       "      <td>0.887336</td>\n",
       "      <td>0.002806</td>\n",
       "      <td>1.000000</td>\n",
       "      <td>0.000021</td>\n",
       "    </tr>\n",
       "    <tr>\n",
       "      <th>purchase_seconds_of_day</th>\n",
       "      <td>0.005154</td>\n",
       "      <td>-0.000309</td>\n",
       "      <td>-0.000047</td>\n",
       "      <td>-0.004403</td>\n",
       "      <td>0.003276</td>\n",
       "      <td>0.002630</td>\n",
       "      <td>0.005607</td>\n",
       "      <td>0.000021</td>\n",
       "      <td>1.000000</td>\n",
       "    </tr>\n",
       "  </tbody>\n",
       "</table>\n",
       "</div>"
      ],
      "text/plain": [
       "                         purchase_value       age  ip_address     class  \\\n",
       "purchase_value                 1.000000  0.001804   -0.000755  0.005138   \n",
       "age                            0.001804  1.000000   -0.000980  0.004006   \n",
       "ip_address                    -0.000755 -0.000980    1.000000  0.001150   \n",
       "class                          0.005138  0.004006    0.001150  1.000000   \n",
       "interval_after_signup          0.003421  0.004022    0.001669 -0.087757   \n",
       "signup_days_of_year            0.004596 -0.000366   -0.000535 -0.088310   \n",
       "signup_seconds_of_day          0.004000 -0.000472   -0.002602  0.000697   \n",
       "purchase_days_of_year          0.005619  0.001533    0.000289 -0.118196   \n",
       "purchase_seconds_of_day        0.005154 -0.000309   -0.000047 -0.004403   \n",
       "\n",
       "                         interval_after_signup  signup_days_of_year  \\\n",
       "purchase_value                        0.003421             0.004596   \n",
       "age                                   0.004022            -0.000366   \n",
       "ip_address                            0.001669            -0.000535   \n",
       "class                                -0.087757            -0.088310   \n",
       "interval_after_signup                 1.000000             0.015123   \n",
       "signup_days_of_year                   0.015123             1.000000   \n",
       "signup_seconds_of_day                 0.000386            -0.001340   \n",
       "purchase_days_of_year                 0.474458             0.887336   \n",
       "purchase_seconds_of_day               0.003276             0.002630   \n",
       "\n",
       "                         signup_seconds_of_day  purchase_days_of_year  \\\n",
       "purchase_value                        0.004000               0.005619   \n",
       "age                                  -0.000472               0.001533   \n",
       "ip_address                           -0.002602               0.000289   \n",
       "class                                 0.000697              -0.118196   \n",
       "interval_after_signup                 0.000386               0.474458   \n",
       "signup_days_of_year                  -0.001340               0.887336   \n",
       "signup_seconds_of_day                 1.000000               0.002806   \n",
       "purchase_days_of_year                 0.002806               1.000000   \n",
       "purchase_seconds_of_day               0.005607               0.000021   \n",
       "\n",
       "                         purchase_seconds_of_day  \n",
       "purchase_value                          0.005154  \n",
       "age                                    -0.000309  \n",
       "ip_address                             -0.000047  \n",
       "class                                  -0.004403  \n",
       "interval_after_signup                   0.003276  \n",
       "signup_days_of_year                     0.002630  \n",
       "signup_seconds_of_day                   0.005607  \n",
       "purchase_days_of_year                   0.000021  \n",
       "purchase_seconds_of_day                 1.000000  "
      ]
     },
     "execution_count": 26,
     "metadata": {},
     "output_type": "execute_result"
    }
   ],
   "source": [
    "fraud_data.corr()"
   ]
  },
  {
   "cell_type": "code",
   "execution_count": 27,
   "metadata": {},
   "outputs": [
    {
     "name": "stdout",
     "output_type": "stream",
     "text": [
      "X_train.shape: (110700, 13)\n",
      "y_train.shape: (110700,)\n"
     ]
    }
   ],
   "source": [
    "y = fraud_data['class']\n",
    "X = fraud_data.drop(['class'], axis=1)\n",
    "\n",
    "#split into train/test\n",
    "X_train, X_test, y_train, y_test = train_test_split(X, y, test_size=0.2, random_state=0)\n",
    "print(\"X_train.shape:\", X_train.shape)\n",
    "print(\"y_train.shape:\", y_train.shape)"
   ]
  },
  {
   "cell_type": "code",
   "execution_count": 28,
   "metadata": {},
   "outputs": [
    {
     "data": {
      "text/html": [
       "<div>\n",
       "<style scoped>\n",
       "    .dataframe tbody tr th:only-of-type {\n",
       "        vertical-align: middle;\n",
       "    }\n",
       "\n",
       "    .dataframe tbody tr th {\n",
       "        vertical-align: top;\n",
       "    }\n",
       "\n",
       "    .dataframe thead th {\n",
       "        text-align: right;\n",
       "    }\n",
       "</style>\n",
       "<table border=\"1\" class=\"dataframe\">\n",
       "  <thead>\n",
       "    <tr style=\"text-align: right;\">\n",
       "      <th></th>\n",
       "      <th>purchase_value</th>\n",
       "      <th>device_id</th>\n",
       "      <th>source</th>\n",
       "      <th>browser</th>\n",
       "      <th>sex</th>\n",
       "      <th>age</th>\n",
       "      <th>ip_address</th>\n",
       "      <th>country</th>\n",
       "      <th>interval_after_signup</th>\n",
       "      <th>signup_days_of_year</th>\n",
       "      <th>signup_seconds_of_day</th>\n",
       "      <th>purchase_days_of_year</th>\n",
       "      <th>purchase_seconds_of_day</th>\n",
       "    </tr>\n",
       "  </thead>\n",
       "  <tbody>\n",
       "    <tr>\n",
       "      <th>29343</th>\n",
       "      <td>12</td>\n",
       "      <td>OULPAZAFRFPXP</td>\n",
       "      <td>Ads</td>\n",
       "      <td>Chrome</td>\n",
       "      <td>M</td>\n",
       "      <td>42</td>\n",
       "      <td>3.690922e+09</td>\n",
       "      <td>Korea Republic of</td>\n",
       "      <td>3499664.0</td>\n",
       "      <td>183</td>\n",
       "      <td>67384</td>\n",
       "      <td>224</td>\n",
       "      <td>24648</td>\n",
       "    </tr>\n",
       "    <tr>\n",
       "      <th>12190</th>\n",
       "      <td>10</td>\n",
       "      <td>AIIWMFEYQQIEB</td>\n",
       "      <td>Ads</td>\n",
       "      <td>Opera</td>\n",
       "      <td>M</td>\n",
       "      <td>29</td>\n",
       "      <td>1.686759e+09</td>\n",
       "      <td>United States</td>\n",
       "      <td>6766039.0</td>\n",
       "      <td>5</td>\n",
       "      <td>78146</td>\n",
       "      <td>84</td>\n",
       "      <td>18585</td>\n",
       "    </tr>\n",
       "    <tr>\n",
       "      <th>19388</th>\n",
       "      <td>34</td>\n",
       "      <td>VUVETBUPCIWJE</td>\n",
       "      <td>Direct</td>\n",
       "      <td>Chrome</td>\n",
       "      <td>M</td>\n",
       "      <td>53</td>\n",
       "      <td>4.138429e+09</td>\n",
       "      <td>NA</td>\n",
       "      <td>5870515.0</td>\n",
       "      <td>197</td>\n",
       "      <td>81354</td>\n",
       "      <td>265</td>\n",
       "      <td>76669</td>\n",
       "    </tr>\n",
       "    <tr>\n",
       "      <th>89104</th>\n",
       "      <td>48</td>\n",
       "      <td>QCFULAJOYKFUU</td>\n",
       "      <td>Ads</td>\n",
       "      <td>Chrome</td>\n",
       "      <td>M</td>\n",
       "      <td>29</td>\n",
       "      <td>9.617337e+07</td>\n",
       "      <td>France</td>\n",
       "      <td>2145618.0</td>\n",
       "      <td>160</td>\n",
       "      <td>30920</td>\n",
       "      <td>185</td>\n",
       "      <td>16538</td>\n",
       "    </tr>\n",
       "    <tr>\n",
       "      <th>82082</th>\n",
       "      <td>44</td>\n",
       "      <td>IHRWLMIJMEEEU</td>\n",
       "      <td>Ads</td>\n",
       "      <td>FireFox</td>\n",
       "      <td>M</td>\n",
       "      <td>24</td>\n",
       "      <td>1.936025e+09</td>\n",
       "      <td>China</td>\n",
       "      <td>7079059.0</td>\n",
       "      <td>111</td>\n",
       "      <td>71897</td>\n",
       "      <td>193</td>\n",
       "      <td>66156</td>\n",
       "    </tr>\n",
       "  </tbody>\n",
       "</table>\n",
       "</div>"
      ],
      "text/plain": [
       "       purchase_value      device_id  source  browser sex  age    ip_address  \\\n",
       "29343              12  OULPAZAFRFPXP     Ads   Chrome   M   42  3.690922e+09   \n",
       "12190              10  AIIWMFEYQQIEB     Ads    Opera   M   29  1.686759e+09   \n",
       "19388              34  VUVETBUPCIWJE  Direct   Chrome   M   53  4.138429e+09   \n",
       "89104              48  QCFULAJOYKFUU     Ads   Chrome   M   29  9.617337e+07   \n",
       "82082              44  IHRWLMIJMEEEU     Ads  FireFox   M   24  1.936025e+09   \n",
       "\n",
       "                 country  interval_after_signup  signup_days_of_year  \\\n",
       "29343  Korea Republic of              3499664.0                  183   \n",
       "12190      United States              6766039.0                    5   \n",
       "19388                 NA              5870515.0                  197   \n",
       "89104             France              2145618.0                  160   \n",
       "82082              China              7079059.0                  111   \n",
       "\n",
       "       signup_seconds_of_day  purchase_days_of_year  purchase_seconds_of_day  \n",
       "29343                  67384                    224                    24648  \n",
       "12190                  78146                     84                    18585  \n",
       "19388                  81354                    265                    76669  \n",
       "89104                  30920                    185                    16538  \n",
       "82082                  71897                    193                    66156  "
      ]
     },
     "execution_count": 28,
     "metadata": {},
     "output_type": "execute_result"
    }
   ],
   "source": [
    "X_train.head()"
   ]
  },
  {
   "cell_type": "code",
   "execution_count": 29,
   "metadata": {},
   "outputs": [],
   "source": [
    "#converting needs to be done after split\n",
    "X_train = pd.get_dummies(X_train, columns=['source', 'browser'])#need to drop ['source', 'browser']? no, auto dropped by get_dummies \n",
    "X_train['sex'] = (X_train.sex == 'M').astype(int)\n",
    "\n",
    "# the more a device is shared, the more suspicious\n",
    "X_train['n_dev_shared'] = X_train.device_id.map(X_train.device_id.value_counts(dropna=False))\n",
    "\n",
    "# the more a ip is shared, the more suspicious\n",
    "X_train['n_ip_shared'] = X_train.ip_address.map(X_train.ip_address.value_counts(dropna=False))\n",
    "\n",
    "# the less visit from a country, the more suspicious\n",
    "X_train['n_country_shared'] = X_train.country.map(X_train.country.value_counts(dropna=False))#lots of NAs in country column, #without dropna=False will produce nan in this col\n",
    "\n",
    "X_train = X_train.drop(['device_id','ip_address','country'], axis=1)\n"
   ]
  },
  {
   "cell_type": "code",
   "execution_count": 30,
   "metadata": {},
   "outputs": [
    {
     "data": {
      "text/html": [
       "<div>\n",
       "<style scoped>\n",
       "    .dataframe tbody tr th:only-of-type {\n",
       "        vertical-align: middle;\n",
       "    }\n",
       "\n",
       "    .dataframe tbody tr th {\n",
       "        vertical-align: top;\n",
       "    }\n",
       "\n",
       "    .dataframe thead th {\n",
       "        text-align: right;\n",
       "    }\n",
       "</style>\n",
       "<table border=\"1\" class=\"dataframe\">\n",
       "  <thead>\n",
       "    <tr style=\"text-align: right;\">\n",
       "      <th></th>\n",
       "      <th>purchase_value</th>\n",
       "      <th>sex</th>\n",
       "      <th>age</th>\n",
       "      <th>interval_after_signup</th>\n",
       "      <th>signup_days_of_year</th>\n",
       "      <th>signup_seconds_of_day</th>\n",
       "      <th>purchase_days_of_year</th>\n",
       "      <th>purchase_seconds_of_day</th>\n",
       "      <th>source_Ads</th>\n",
       "      <th>source_Direct</th>\n",
       "      <th>source_SEO</th>\n",
       "      <th>browser_Chrome</th>\n",
       "      <th>browser_FireFox</th>\n",
       "      <th>browser_IE</th>\n",
       "      <th>browser_Opera</th>\n",
       "      <th>browser_Safari</th>\n",
       "      <th>n_dev_shared</th>\n",
       "      <th>n_ip_shared</th>\n",
       "      <th>n_country_shared</th>\n",
       "    </tr>\n",
       "  </thead>\n",
       "  <tbody>\n",
       "    <tr>\n",
       "      <th>29343</th>\n",
       "      <td>12</td>\n",
       "      <td>1</td>\n",
       "      <td>42</td>\n",
       "      <td>3499664.0</td>\n",
       "      <td>183</td>\n",
       "      <td>67384</td>\n",
       "      <td>224</td>\n",
       "      <td>24648</td>\n",
       "      <td>1</td>\n",
       "      <td>0</td>\n",
       "      <td>0</td>\n",
       "      <td>1</td>\n",
       "      <td>0</td>\n",
       "      <td>0</td>\n",
       "      <td>0</td>\n",
       "      <td>0</td>\n",
       "      <td>1</td>\n",
       "      <td>1</td>\n",
       "      <td>3075</td>\n",
       "    </tr>\n",
       "    <tr>\n",
       "      <th>12190</th>\n",
       "      <td>10</td>\n",
       "      <td>1</td>\n",
       "      <td>29</td>\n",
       "      <td>6766039.0</td>\n",
       "      <td>5</td>\n",
       "      <td>78146</td>\n",
       "      <td>84</td>\n",
       "      <td>18585</td>\n",
       "      <td>1</td>\n",
       "      <td>0</td>\n",
       "      <td>0</td>\n",
       "      <td>0</td>\n",
       "      <td>0</td>\n",
       "      <td>0</td>\n",
       "      <td>1</td>\n",
       "      <td>0</td>\n",
       "      <td>1</td>\n",
       "      <td>1</td>\n",
       "      <td>42348</td>\n",
       "    </tr>\n",
       "  </tbody>\n",
       "</table>\n",
       "</div>"
      ],
      "text/plain": [
       "       purchase_value  sex  age  interval_after_signup  signup_days_of_year  \\\n",
       "29343              12    1   42              3499664.0                  183   \n",
       "12190              10    1   29              6766039.0                    5   \n",
       "\n",
       "       signup_seconds_of_day  purchase_days_of_year  purchase_seconds_of_day  \\\n",
       "29343                  67384                    224                    24648   \n",
       "12190                  78146                     84                    18585   \n",
       "\n",
       "       source_Ads  source_Direct  source_SEO  browser_Chrome  browser_FireFox  \\\n",
       "29343           1              0           0               1                0   \n",
       "12190           1              0           0               0                0   \n",
       "\n",
       "       browser_IE  browser_Opera  browser_Safari  n_dev_shared  n_ip_shared  \\\n",
       "29343           0              0               0             1            1   \n",
       "12190           0              1               0             1            1   \n",
       "\n",
       "       n_country_shared  \n",
       "29343              3075  \n",
       "12190             42348  "
      ]
     },
     "execution_count": 30,
     "metadata": {},
     "output_type": "execute_result"
    }
   ],
   "source": [
    "X_train.head(2)"
   ]
  },
  {
   "cell_type": "code",
   "execution_count": 31,
   "metadata": {},
   "outputs": [],
   "source": [
    "X_test = pd.get_dummies(X_test, columns=['source', 'browser'])\n",
    "X_test['sex'] = (X_test.sex == 'M').astype(int)\n",
    "\n",
    "# the more a device is shared, the more suspicious\n",
    "X_test['n_dev_shared'] = X_test.device_id.map(X_test.device_id.value_counts(dropna=False))\n",
    "\n",
    "# the more a ip is shared, the more suspicious\n",
    "X_test['n_ip_shared'] = X_test.ip_address.map(X_test.ip_address.value_counts(dropna=False))\n",
    "\n",
    "# the less visit from a country, the more suspicious\n",
    "X_test['n_country_shared'] = X_test.country.map(X_test.country.value_counts(dropna=False))\n",
    "\n",
    "X_test = X_test.drop(['device_id','ip_address','country'], axis=1)"
   ]
  },
  {
   "cell_type": "code",
   "execution_count": 32,
   "metadata": {},
   "outputs": [],
   "source": [
    "# # normalize to [0,1], standardize(StandardScaler) to normal, mu=0,var = 1 can < 0, so we do normalize here\n",
    "\n",
    "# needs to be brought to the same scale for models like LR with regularization(that are not tree based)\n",
    "\n",
    "#Compute the train minimum and maximum to be used for later scaling:\n",
    "scaler = preprocessing.MinMaxScaler().fit(X_train[['n_dev_shared', 'n_ip_shared', 'n_country_shared']]) \n",
    "#print(scaler.data_max_)\n",
    "\n",
    "#transform the training data and use them for the model training\n",
    "X_train[['n_dev_shared', 'n_ip_shared', 'n_country_shared']] = scaler.transform(X_train[['n_dev_shared', 'n_ip_shared', 'n_country_shared']])\n",
    "\n",
    "#before the prediction of the test data, apply the same scaler obtained from above on X_test, not fitting a brandnew scaler on test\n",
    "X_test[['n_dev_shared', 'n_ip_shared', 'n_country_shared']] = scaler.transform(X_test[['n_dev_shared', 'n_ip_shared', 'n_country_shared']])"
   ]
  },
  {
   "cell_type": "code",
   "execution_count": null,
   "metadata": {},
   "outputs": [],
   "source": [
    "####shouldn't we scale all features????"
   ]
  },
  {
   "cell_type": "code",
   "execution_count": 33,
   "metadata": {},
   "outputs": [
    {
     "data": {
      "text/plain": [
       "0.0    105427\n",
       "0.2      4774\n",
       "0.4       324\n",
       "0.6       124\n",
       "0.8        45\n",
       "1.0         6\n",
       "Name: n_dev_shared, dtype: int64"
      ]
     },
     "execution_count": 33,
     "metadata": {},
     "output_type": "execute_result"
    }
   ],
   "source": [
    "X_train.n_dev_shared.value_counts(dropna=False)"
   ]
  },
  {
   "cell_type": "code",
   "execution_count": 34,
   "metadata": {},
   "outputs": [
    {
     "data": {
      "text/plain": [
       "0.0    27330\n",
       "0.2      334\n",
       "0.4       12\n",
       "Name: n_dev_shared, dtype: int64"
      ]
     },
     "execution_count": 34,
     "metadata": {},
     "output_type": "execute_result"
    }
   ],
   "source": [
    "X_test.n_dev_shared.value_counts(dropna=False)"
   ]
  },
  {
   "cell_type": "code",
   "execution_count": 35,
   "metadata": {},
   "outputs": [
    {
     "data": {
      "text/html": [
       "<div>\n",
       "<style scoped>\n",
       "    .dataframe tbody tr th:only-of-type {\n",
       "        vertical-align: middle;\n",
       "    }\n",
       "\n",
       "    .dataframe tbody tr th {\n",
       "        vertical-align: top;\n",
       "    }\n",
       "\n",
       "    .dataframe thead th {\n",
       "        text-align: right;\n",
       "    }\n",
       "</style>\n",
       "<table border=\"1\" class=\"dataframe\">\n",
       "  <thead>\n",
       "    <tr style=\"text-align: right;\">\n",
       "      <th></th>\n",
       "      <th>purchase_value</th>\n",
       "      <th>sex</th>\n",
       "      <th>age</th>\n",
       "      <th>interval_after_signup</th>\n",
       "      <th>signup_days_of_year</th>\n",
       "      <th>signup_seconds_of_day</th>\n",
       "      <th>purchase_days_of_year</th>\n",
       "      <th>purchase_seconds_of_day</th>\n",
       "      <th>source_Ads</th>\n",
       "      <th>source_Direct</th>\n",
       "      <th>source_SEO</th>\n",
       "      <th>browser_Chrome</th>\n",
       "      <th>browser_FireFox</th>\n",
       "      <th>browser_IE</th>\n",
       "      <th>browser_Opera</th>\n",
       "      <th>browser_Safari</th>\n",
       "      <th>n_dev_shared</th>\n",
       "      <th>n_ip_shared</th>\n",
       "      <th>n_country_shared</th>\n",
       "    </tr>\n",
       "  </thead>\n",
       "  <tbody>\n",
       "    <tr>\n",
       "      <th>29343</th>\n",
       "      <td>12</td>\n",
       "      <td>1</td>\n",
       "      <td>42</td>\n",
       "      <td>3499664.0</td>\n",
       "      <td>183</td>\n",
       "      <td>67384</td>\n",
       "      <td>224</td>\n",
       "      <td>24648</td>\n",
       "      <td>1</td>\n",
       "      <td>0</td>\n",
       "      <td>0</td>\n",
       "      <td>1</td>\n",
       "      <td>0</td>\n",
       "      <td>0</td>\n",
       "      <td>0</td>\n",
       "      <td>0</td>\n",
       "      <td>0.0</td>\n",
       "      <td>0.0</td>\n",
       "      <td>0.072591</td>\n",
       "    </tr>\n",
       "    <tr>\n",
       "      <th>12190</th>\n",
       "      <td>10</td>\n",
       "      <td>1</td>\n",
       "      <td>29</td>\n",
       "      <td>6766039.0</td>\n",
       "      <td>5</td>\n",
       "      <td>78146</td>\n",
       "      <td>84</td>\n",
       "      <td>18585</td>\n",
       "      <td>1</td>\n",
       "      <td>0</td>\n",
       "      <td>0</td>\n",
       "      <td>0</td>\n",
       "      <td>0</td>\n",
       "      <td>0</td>\n",
       "      <td>1</td>\n",
       "      <td>0</td>\n",
       "      <td>0.0</td>\n",
       "      <td>0.0</td>\n",
       "      <td>1.000000</td>\n",
       "    </tr>\n",
       "  </tbody>\n",
       "</table>\n",
       "</div>"
      ],
      "text/plain": [
       "       purchase_value  sex  age  interval_after_signup  signup_days_of_year  \\\n",
       "29343              12    1   42              3499664.0                  183   \n",
       "12190              10    1   29              6766039.0                    5   \n",
       "\n",
       "       signup_seconds_of_day  purchase_days_of_year  purchase_seconds_of_day  \\\n",
       "29343                  67384                    224                    24648   \n",
       "12190                  78146                     84                    18585   \n",
       "\n",
       "       source_Ads  source_Direct  source_SEO  browser_Chrome  browser_FireFox  \\\n",
       "29343           1              0           0               1                0   \n",
       "12190           1              0           0               0                0   \n",
       "\n",
       "       browser_IE  browser_Opera  browser_Safari  n_dev_shared  n_ip_shared  \\\n",
       "29343           0              0               0           0.0          0.0   \n",
       "12190           0              1               0           0.0          0.0   \n",
       "\n",
       "       n_country_shared  \n",
       "29343          0.072591  \n",
       "12190          1.000000  "
      ]
     },
     "execution_count": 35,
     "metadata": {},
     "output_type": "execute_result"
    }
   ],
   "source": [
    "X_train.head(2)"
   ]
  },
  {
   "cell_type": "code",
   "execution_count": 39,
   "metadata": {},
   "outputs": [
    {
     "name": "stderr",
     "output_type": "stream",
     "text": [
      "/Users/christie/jupyterNotebook/anaconda3/lib/python3.7/site-packages/sklearn/ensemble/forest.py:245: FutureWarning: The default value of n_estimators will change from 10 in version 0.20 to 100 in 0.22.\n",
      "  \"10 in version 0.20 to 100 in 0.22.\", FutureWarning)\n"
     ]
    },
    {
     "name": "stdout",
     "output_type": "stream",
     "text": [
      "accuracy_score is: : 0.9948692007515537\n",
      "roc_auc_score is: : 0.7548596215347777\n",
      "f1_score is: : 0.6712962962962962\n",
      "confusion_matrix is: \n",
      "        pred_0  pred_1\n",
      "true_0   27389       0\n",
      "true_1     142     145\n",
      "recall = 0.5052264808362369\n"
     ]
    }
   ],
   "source": [
    "classifier_RF = RandomForestClassifier(random_state=0)\n",
    "\n",
    "classifier_RF.fit(X_train, y_train)\n",
    "\n",
    "# predict class labels 0/1 for the test set\n",
    "predicted = classifier_RF.predict(X_test)\n",
    "\n",
    "# generate class probabilities\n",
    "probs = classifier_RF.predict_proba(X_test)\n",
    "\n",
    "# generate evaluation metrics\n",
    "print(\"%s: %r\" % (\"accuracy_score is: \", accuracy_score(y_test, predicted)))\n",
    "print(\"%s: %r\" % (\"roc_auc_score is: \", roc_auc_score(y_test, probs[:, 1])))\n",
    "print(\"%s: %r\" % (\"f1_score is: \", f1_score(y_test, predicted )))#string to int\n",
    "\n",
    "print (\"confusion_matrix is: \")\n",
    "cm = confusion_matrix(y_test, predicted)\n",
    "cmDF = pd.DataFrame(cm, columns=['pred_0', 'pred_1'], index=['true_0', 'true_1'])\n",
    "print(cmDF)\n",
    "print('recall =',float(cm[1,1])/(cm[1,0]+cm[1,1]))"
   ]
  },
  {
   "cell_type": "code",
   "execution_count": 41,
   "metadata": {},
   "outputs": [
    {
     "name": "stdout",
     "output_type": "stream",
     "text": [
      "precision = 1.0\n"
     ]
    }
   ],
   "source": [
    "print('precision =', float(cm[1,1])/(cm[1,1] + cm[0,1]))#1.0"
   ]
  },
  {
   "cell_type": "code",
   "execution_count": 42,
   "metadata": {},
   "outputs": [
    {
     "name": "stdout",
     "output_type": "stream",
     "text": [
      "[[     0 109572]\n",
      " [     1 109572]]\n"
     ]
    }
   ],
   "source": [
    "#Wrong way to sampling: smote before split train/test, then test data does not reflect true distribution in reality, \n",
    "#and “bleed” information from the test set into the training of the model. overfit! think about the case of simple \n",
    "#oversampling (where I just duplicate observations). If I upsample a dataset before splitting it into a train and \n",
    "#validation set, I could end up with the same observation in both datasets\n",
    "\n",
    "#https://imbalanced-learn.org/en/stable/install.html\n",
    "\n",
    "# Install\n",
    "# imbalanced-learn is currently available on the PyPi’s reporitories and you can install it via pip:\n",
    "\n",
    "# pip install -U imbalanced-learn\n",
    "\n",
    "#oversampling on only the training data, the right way! \n",
    "#sampling_strategy = number of samples in the majority class over the number of samples in the minority class after resampling\n",
    "\n",
    "smote = SMOTE(random_state=12)\n",
    "x_train_sm, y_train_sm = smote.fit_sample(X_train, y_train)\n",
    "\n",
    "unique, counts = np.unique(y_train_sm, return_counts=True)\n",
    "\n",
    "print(np.asarray((unique, counts)).T)"
   ]
  },
  {
   "cell_type": "code",
   "execution_count": 44,
   "metadata": {},
   "outputs": [
    {
     "name": "stderr",
     "output_type": "stream",
     "text": [
      "/Users/christie/jupyterNotebook/anaconda3/lib/python3.7/site-packages/sklearn/ensemble/forest.py:245: FutureWarning: The default value of n_estimators will change from 10 in version 0.20 to 100 in 0.22.\n",
      "  \"10 in version 0.20 to 100 in 0.22.\", FutureWarning)\n"
     ]
    },
    {
     "name": "stdout",
     "output_type": "stream",
     "text": [
      "accuracy_score_sm is: : 0.9945440092498916\n",
      "roc_auc_score_sm is: : 0.7533518568391924\n",
      "f1_score_sm is: : 0.6544622425629291\n",
      "confusion_matrix_sm is: \n",
      "        pred_0  pred_1\n",
      "true_0   27382       7\n",
      "true_1     144     143\n",
      "recall or sens_sm = 0.49825783972125437\n",
      "precision_sm = 0.9533333333333334\n"
     ]
    }
   ],
   "source": [
    "#RF on smoted training data\n",
    "classifier_RF_sm = RandomForestClassifier(random_state=0)\n",
    "\n",
    "classifier_RF_sm.fit(x_train_sm, y_train_sm)\n",
    "\n",
    "# predict class labels for the test set\n",
    "predicted_sm = classifier_RF_sm.predict(X_test)\n",
    "\n",
    "# generate class probabilities\n",
    "probs_sm = classifier_RF_sm.predict_proba(X_test)\n",
    "\n",
    "\n",
    "# generate evaluation metrics\n",
    "print(\"%s: %r\" % (\"accuracy_score_sm is: \", accuracy_score(y_test, predicted_sm)))\n",
    "print(\"%s: %r\" % (\"roc_auc_score_sm is: \", roc_auc_score(y_test, probs_sm[:, 1])))\n",
    "print(\"%s: %r\" % (\"f1_score_sm is: \", f1_score(y_test, predicted_sm )))#string to int\n",
    "\n",
    "print (\"confusion_matrix_sm is: \")\n",
    "cm_sm = confusion_matrix(y_test, predicted_sm)\n",
    "cmDF = pd.DataFrame(cm_sm, columns=['pred_0', 'pred_1'], index=['true_0', 'true_1'])\n",
    "print(cmDF)\n",
    "print('recall or sens_sm =',float(cm_sm[1,1])/(cm_sm[1,0]+cm_sm[1,1]))\n",
    "print('precision_sm =', float(cm_sm[1,1])/(cm_sm[1,1] + cm_sm[0,1]))\n",
    "\n"
   ]
  },
  {
   "cell_type": "code",
   "execution_count": 46,
   "metadata": {},
   "outputs": [],
   "source": [
    "# Eval metrics to be calculated for each combination of parameters and cv\n",
    "scorers = {\n",
    "    'precision_score': make_scorer(precision_score),\n",
    "    'recall_score': make_scorer(recall_score),\n",
    "    'f1_score': make_scorer(f1_score, pos_label=1)\n",
    "}\n",
    "#In [24]:\n",
    "def grid_search_wrapper(model, parameters, refit_score='f1_score'):\n",
    "    \"\"\"\n",
    "    fits a GridSearchCV classifier using refit_score for optimization(refit on the best model according to refit_score)\n",
    "    prints classifier performance metrics\n",
    "    \"\"\"\n",
    "#     skf = StratifiedKFold(n_splits=10)\n",
    "#     grid_search = GridSearchCV(clf, param_grid, scoring=scorers, refit=refit_score,\n",
    "#                            cv=skf, return_train_score=True, n_jobs=-1)\n",
    "    grid_search = GridSearchCV(model, parameters, scoring=scorers, refit=refit_score,\n",
    "                           cv=3, return_train_score=True, n_jobs=-1)\n",
    "    grid_search.fit(X_train, y_train)\n",
    "\n",
    "    # make the predictions\n",
    "    y_pred = grid_search.predict(X_test)\n",
    "    y_prob = grid_search.predict_proba(X_test)[:, 1]\n",
    "    \n",
    "    print('Best params for {}'.format(refit_score))\n",
    "    print(grid_search.best_params_)\n",
    "\n",
    "    # confusion matrix on the test data.\n",
    "    print('\\nConfusion matrix of Random Forest optimized for {} on the test data:'.format(refit_score))\n",
    "    cm = confusion_matrix(y_test, y_pred)\n",
    "    cmDF = pd.DataFrame(cm, columns=['pred_0', 'pred_1'], index=['true_0', 'true_1'])\n",
    "    print(cmDF)\n",
    "    \n",
    "    print(\"\\t%s: %r\" % (\"roc_auc_score is: \", roc_auc_score(y_test, y_prob)))\n",
    "    print(\"\\t%s: %r\" % (\"f1_score is: \", f1_score(y_test, y_pred)))#string to int\n",
    "\n",
    "    print('recall = ', float(cm[1,1]) / (cm[1,0] + cm[1,1]))\n",
    "    print('precision = ', float(cm[1,1]) / (cm[1, 1] + cm[0,1]))\n",
    "\n",
    "    return grid_search"
   ]
  },
  {
   "cell_type": "code",
   "execution_count": 47,
   "metadata": {},
   "outputs": [
    {
     "name": "stderr",
     "output_type": "stream",
     "text": [
      "/Users/christie/jupyterNotebook/anaconda3/lib/python3.7/site-packages/sklearn/linear_model/logistic.py:432: FutureWarning: Default solver will be changed to 'lbfgs' in 0.22. Specify a solver to silence this warning.\n",
      "  FutureWarning)\n"
     ]
    },
    {
     "name": "stdout",
     "output_type": "stream",
     "text": [
      "Best params for f1_score\n",
      "{'C': 0.1, 'penalty': 'l1'}\n",
      "\n",
      "Confusion matrix of Random Forest optimized for f1_score on the test data:\n",
      "        pred_0  pred_1\n",
      "true_0   27386       3\n",
      "true_1     278       9\n",
      "\troc_auc_score is: : 0.760104993955329\n",
      "\tf1_score is: : 0.06020066889632108\n",
      "recall =  0.0313588850174216\n",
      "precision =  0.75\n"
     ]
    }
   ],
   "source": [
    "# C: inverse of regularization strength, smaller values specify stronger regularization\n",
    "LRGrid = {\"C\" : np.logspace(-2,2,5), \"penalty\":[\"l1\",\"l2\"]}# l1 lasso l2 ridge\n",
    "#param_grid = {'C': [0.01, 0.1, 1, 10, 100], 'penalty': ['l1', 'l2']}\n",
    "logRegModel = LogisticRegression(random_state=0)\n",
    "\n",
    "grid_search_LR_f1 = grid_search_wrapper(logRegModel, LRGrid, refit_score='f1_score')"
   ]
  },
  {
   "cell_type": "code",
   "execution_count": 48,
   "metadata": {},
   "outputs": [],
   "source": [
    "parameters = {        \n",
    "'max_depth': [None, 5, 15],\n",
    "'n_estimators' :  [10,150],\n",
    "'class_weight' : [{0: 1, 1: w} for w in [0.2, 1, 100]]\n",
    "}\n",
    "\n",
    "clf = RandomForestClassifier(random_state=0)"
   ]
  },
  {
   "cell_type": "code",
   "execution_count": 49,
   "metadata": {},
   "outputs": [
    {
     "name": "stdout",
     "output_type": "stream",
     "text": [
      "Best params for f1_score\n",
      "{'class_weight': {0: 1, 1: 0.2}, 'max_depth': None, 'n_estimators': 150}\n",
      "\n",
      "Confusion matrix of Random Forest optimized for f1_score on the test data:\n",
      "        pred_0  pred_1\n",
      "true_0   27389       0\n",
      "true_1     142     145\n",
      "\troc_auc_score is: : 0.7627425008361275\n",
      "\tf1_score is: : 0.6712962962962962\n",
      "recall =  0.5052264808362369\n",
      "precision =  1.0\n"
     ]
    }
   ],
   "source": [
    "grid_search_rf_f1 = grid_search_wrapper(clf, parameters, refit_score='f1_score')"
   ]
  },
  {
   "cell_type": "code",
   "execution_count": 50,
   "metadata": {},
   "outputs": [
    {
     "data": {
      "text/plain": [
       "RandomForestClassifier(bootstrap=True, class_weight={0: 1, 1: 0.2},\n",
       "                       criterion='gini', max_depth=None, max_features='auto',\n",
       "                       max_leaf_nodes=None, min_impurity_decrease=0.0,\n",
       "                       min_impurity_split=None, min_samples_leaf=1,\n",
       "                       min_samples_split=2, min_weight_fraction_leaf=0.0,\n",
       "                       n_estimators=150, n_jobs=None, oob_score=False,\n",
       "                       random_state=0, verbose=0, warm_start=False)"
      ]
     },
     "execution_count": 50,
     "metadata": {},
     "output_type": "execute_result"
    }
   ],
   "source": [
    "best_rf_model_f1 = grid_search_rf_f1.best_estimator_\n",
    "best_rf_model_f1"
   ]
  },
  {
   "cell_type": "code",
   "execution_count": 51,
   "metadata": {},
   "outputs": [
    {
     "data": {
      "text/html": [
       "<div>\n",
       "<style scoped>\n",
       "    .dataframe tbody tr th:only-of-type {\n",
       "        vertical-align: middle;\n",
       "    }\n",
       "\n",
       "    .dataframe tbody tr th {\n",
       "        vertical-align: top;\n",
       "    }\n",
       "\n",
       "    .dataframe thead th {\n",
       "        text-align: right;\n",
       "    }\n",
       "</style>\n",
       "<table border=\"1\" class=\"dataframe\">\n",
       "  <thead>\n",
       "    <tr style=\"text-align: right;\">\n",
       "      <th></th>\n",
       "      <th>mean_test_precision_score</th>\n",
       "      <th>mean_test_recall_score</th>\n",
       "      <th>mean_test_f1_score</th>\n",
       "      <th>mean_train_precision_score</th>\n",
       "      <th>mean_train_recall_score</th>\n",
       "      <th>mean_train_f1_score</th>\n",
       "      <th>param_max_depth</th>\n",
       "      <th>param_class_weight</th>\n",
       "      <th>param_n_estimators</th>\n",
       "    </tr>\n",
       "  </thead>\n",
       "  <tbody>\n",
       "    <tr>\n",
       "      <th>9</th>\n",
       "      <td>1.0</td>\n",
       "      <td>0.527</td>\n",
       "      <td>0.69</td>\n",
       "      <td>1.0</td>\n",
       "      <td>0.527</td>\n",
       "      <td>0.690</td>\n",
       "      <td>5</td>\n",
       "      <td>{0: 1, 1: 1}</td>\n",
       "      <td>150</td>\n",
       "    </tr>\n",
       "    <tr>\n",
       "      <th>7</th>\n",
       "      <td>1.0</td>\n",
       "      <td>0.527</td>\n",
       "      <td>0.69</td>\n",
       "      <td>1.0</td>\n",
       "      <td>1.000</td>\n",
       "      <td>1.000</td>\n",
       "      <td>None</td>\n",
       "      <td>{0: 1, 1: 1}</td>\n",
       "      <td>150</td>\n",
       "    </tr>\n",
       "    <tr>\n",
       "      <th>13</th>\n",
       "      <td>1.0</td>\n",
       "      <td>0.527</td>\n",
       "      <td>0.69</td>\n",
       "      <td>1.0</td>\n",
       "      <td>1.000</td>\n",
       "      <td>1.000</td>\n",
       "      <td>None</td>\n",
       "      <td>{0: 1, 1: 100}</td>\n",
       "      <td>150</td>\n",
       "    </tr>\n",
       "    <tr>\n",
       "      <th>3</th>\n",
       "      <td>1.0</td>\n",
       "      <td>0.527</td>\n",
       "      <td>0.69</td>\n",
       "      <td>1.0</td>\n",
       "      <td>0.527</td>\n",
       "      <td>0.690</td>\n",
       "      <td>5</td>\n",
       "      <td>{0: 1, 1: 0.2}</td>\n",
       "      <td>150</td>\n",
       "    </tr>\n",
       "    <tr>\n",
       "      <th>11</th>\n",
       "      <td>1.0</td>\n",
       "      <td>0.527</td>\n",
       "      <td>0.69</td>\n",
       "      <td>1.0</td>\n",
       "      <td>0.584</td>\n",
       "      <td>0.737</td>\n",
       "      <td>15</td>\n",
       "      <td>{0: 1, 1: 1}</td>\n",
       "      <td>150</td>\n",
       "    </tr>\n",
       "  </tbody>\n",
       "</table>\n",
       "</div>"
      ],
      "text/plain": [
       "    mean_test_precision_score  mean_test_recall_score  mean_test_f1_score  \\\n",
       "9                         1.0                   0.527                0.69   \n",
       "7                         1.0                   0.527                0.69   \n",
       "13                        1.0                   0.527                0.69   \n",
       "3                         1.0                   0.527                0.69   \n",
       "11                        1.0                   0.527                0.69   \n",
       "\n",
       "    mean_train_precision_score  mean_train_recall_score  mean_train_f1_score  \\\n",
       "9                          1.0                    0.527                0.690   \n",
       "7                          1.0                    1.000                1.000   \n",
       "13                         1.0                    1.000                1.000   \n",
       "3                          1.0                    0.527                0.690   \n",
       "11                         1.0                    0.584                0.737   \n",
       "\n",
       "   param_max_depth param_class_weight param_n_estimators  \n",
       "9                5       {0: 1, 1: 1}                150  \n",
       "7             None       {0: 1, 1: 1}                150  \n",
       "13            None     {0: 1, 1: 100}                150  \n",
       "3                5     {0: 1, 1: 0.2}                150  \n",
       "11              15       {0: 1, 1: 1}                150  "
      ]
     },
     "execution_count": 51,
     "metadata": {},
     "output_type": "execute_result"
    }
   ],
   "source": [
    "results_f1 = pd.DataFrame(grid_search_rf_f1.cv_results_)\n",
    "results_sortf1 = results_f1.sort_values(by='mean_test_f1_score', ascending=False)\n",
    "results_sortf1[['mean_test_precision_score', 'mean_test_recall_score', 'mean_test_f1_score', 'mean_train_precision_score', 'mean_train_recall_score', 'mean_train_f1_score','param_max_depth', 'param_class_weight', 'param_n_estimators']].round(3).head()"
   ]
  },
  {
   "cell_type": "code",
   "execution_count": 52,
   "metadata": {},
   "outputs": [
    {
     "data": {
      "text/html": [
       "<div>\n",
       "<style scoped>\n",
       "    .dataframe tbody tr th:only-of-type {\n",
       "        vertical-align: middle;\n",
       "    }\n",
       "\n",
       "    .dataframe tbody tr th {\n",
       "        vertical-align: top;\n",
       "    }\n",
       "\n",
       "    .dataframe thead th {\n",
       "        text-align: right;\n",
       "    }\n",
       "</style>\n",
       "<table border=\"1\" class=\"dataframe\">\n",
       "  <thead>\n",
       "    <tr style=\"text-align: right;\">\n",
       "      <th></th>\n",
       "      <th>importance</th>\n",
       "    </tr>\n",
       "  </thead>\n",
       "  <tbody>\n",
       "    <tr>\n",
       "      <th>interval_after_signup</th>\n",
       "      <td>0.394919</td>\n",
       "    </tr>\n",
       "    <tr>\n",
       "      <th>purchase_days_of_year</th>\n",
       "      <td>0.141148</td>\n",
       "    </tr>\n",
       "    <tr>\n",
       "      <th>purchase_seconds_of_day</th>\n",
       "      <td>0.081432</td>\n",
       "    </tr>\n",
       "    <tr>\n",
       "      <th>signup_seconds_of_day</th>\n",
       "      <td>0.078620</td>\n",
       "    </tr>\n",
       "    <tr>\n",
       "      <th>signup_days_of_year</th>\n",
       "      <td>0.059417</td>\n",
       "    </tr>\n",
       "    <tr>\n",
       "      <th>n_ip_shared</th>\n",
       "      <td>0.050463</td>\n",
       "    </tr>\n",
       "    <tr>\n",
       "      <th>purchase_value</th>\n",
       "      <td>0.044328</td>\n",
       "    </tr>\n",
       "    <tr>\n",
       "      <th>n_dev_shared</th>\n",
       "      <td>0.038656</td>\n",
       "    </tr>\n",
       "    <tr>\n",
       "      <th>age</th>\n",
       "      <td>0.038656</td>\n",
       "    </tr>\n",
       "    <tr>\n",
       "      <th>n_country_shared</th>\n",
       "      <td>0.027619</td>\n",
       "    </tr>\n",
       "    <tr>\n",
       "      <th>sex</th>\n",
       "      <td>0.007886</td>\n",
       "    </tr>\n",
       "    <tr>\n",
       "      <th>source_Ads</th>\n",
       "      <td>0.005919</td>\n",
       "    </tr>\n",
       "    <tr>\n",
       "      <th>source_SEO</th>\n",
       "      <td>0.005735</td>\n",
       "    </tr>\n",
       "    <tr>\n",
       "      <th>browser_Chrome</th>\n",
       "      <td>0.005264</td>\n",
       "    </tr>\n",
       "    <tr>\n",
       "      <th>source_Direct</th>\n",
       "      <td>0.005217</td>\n",
       "    </tr>\n",
       "    <tr>\n",
       "      <th>browser_FireFox</th>\n",
       "      <td>0.004753</td>\n",
       "    </tr>\n",
       "    <tr>\n",
       "      <th>browser_IE</th>\n",
       "      <td>0.004413</td>\n",
       "    </tr>\n",
       "    <tr>\n",
       "      <th>browser_Safari</th>\n",
       "      <td>0.004308</td>\n",
       "    </tr>\n",
       "    <tr>\n",
       "      <th>browser_Opera</th>\n",
       "      <td>0.001246</td>\n",
       "    </tr>\n",
       "  </tbody>\n",
       "</table>\n",
       "</div>"
      ],
      "text/plain": [
       "                         importance\n",
       "interval_after_signup      0.394919\n",
       "purchase_days_of_year      0.141148\n",
       "purchase_seconds_of_day    0.081432\n",
       "signup_seconds_of_day      0.078620\n",
       "signup_days_of_year        0.059417\n",
       "n_ip_shared                0.050463\n",
       "purchase_value             0.044328\n",
       "n_dev_shared               0.038656\n",
       "age                        0.038656\n",
       "n_country_shared           0.027619\n",
       "sex                        0.007886\n",
       "source_Ads                 0.005919\n",
       "source_SEO                 0.005735\n",
       "browser_Chrome             0.005264\n",
       "source_Direct              0.005217\n",
       "browser_FireFox            0.004753\n",
       "browser_IE                 0.004413\n",
       "browser_Safari             0.004308\n",
       "browser_Opera              0.001246"
      ]
     },
     "execution_count": 52,
     "metadata": {},
     "output_type": "execute_result"
    }
   ],
   "source": [
    "#Var Importance, make a guess?\n",
    "pd.DataFrame(best_rf_model_f1.feature_importances_, index = X_train.columns, columns=['importance']).sort_values('importance', ascending=False)"
   ]
  },
  {
   "cell_type": "code",
   "execution_count": 53,
   "metadata": {},
   "outputs": [
    {
     "name": "stdout",
     "output_type": "stream",
     "text": [
      "Best params for recall_score\n",
      "{'class_weight': {0: 1, 1: 100}, 'max_depth': 5, 'n_estimators': 150}\n",
      "\n",
      "Confusion matrix of Random Forest optimized for recall_score on the test data:\n",
      "        pred_0  pred_1\n",
      "true_0   27146     243\n",
      "true_1     132     155\n",
      "\troc_auc_score is: : 0.7904661234456265\n",
      "\tf1_score is: : 0.4525547445255475\n",
      "recall =  0.5400696864111498\n",
      "precision =  0.38944723618090454\n"
     ]
    }
   ],
   "source": [
    "grid_search_rf_recall = grid_search_wrapper(clf, parameters, refit_score='recall_score')"
   ]
  },
  {
   "cell_type": "code",
   "execution_count": 54,
   "metadata": {},
   "outputs": [
    {
     "data": {
      "text/html": [
       "<div>\n",
       "<style scoped>\n",
       "    .dataframe tbody tr th:only-of-type {\n",
       "        vertical-align: middle;\n",
       "    }\n",
       "\n",
       "    .dataframe tbody tr th {\n",
       "        vertical-align: top;\n",
       "    }\n",
       "\n",
       "    .dataframe thead th {\n",
       "        text-align: right;\n",
       "    }\n",
       "</style>\n",
       "<table border=\"1\" class=\"dataframe\">\n",
       "  <thead>\n",
       "    <tr style=\"text-align: right;\">\n",
       "      <th></th>\n",
       "      <th>mean_test_precision_score</th>\n",
       "      <th>mean_test_recall_score</th>\n",
       "      <th>mean_test_f1_score</th>\n",
       "      <th>mean_train_precision_score</th>\n",
       "      <th>mean_train_recall_score</th>\n",
       "      <th>mean_train_f1_score</th>\n",
       "      <th>param_max_depth</th>\n",
       "      <th>param_class_weight</th>\n",
       "      <th>param_n_estimators</th>\n",
       "    </tr>\n",
       "  </thead>\n",
       "  <tbody>\n",
       "    <tr>\n",
       "      <th>15</th>\n",
       "      <td>0.159</td>\n",
       "      <td>0.636</td>\n",
       "      <td>0.254</td>\n",
       "      <td>0.164</td>\n",
       "      <td>0.656</td>\n",
       "      <td>0.262</td>\n",
       "      <td>5</td>\n",
       "      <td>{0: 1, 1: 100}</td>\n",
       "      <td>150</td>\n",
       "    </tr>\n",
       "    <tr>\n",
       "      <th>14</th>\n",
       "      <td>0.160</td>\n",
       "      <td>0.633</td>\n",
       "      <td>0.255</td>\n",
       "      <td>0.162</td>\n",
       "      <td>0.652</td>\n",
       "      <td>0.260</td>\n",
       "      <td>5</td>\n",
       "      <td>{0: 1, 1: 100}</td>\n",
       "      <td>10</td>\n",
       "    </tr>\n",
       "    <tr>\n",
       "      <th>16</th>\n",
       "      <td>0.675</td>\n",
       "      <td>0.533</td>\n",
       "      <td>0.593</td>\n",
       "      <td>0.759</td>\n",
       "      <td>0.813</td>\n",
       "      <td>0.782</td>\n",
       "      <td>15</td>\n",
       "      <td>{0: 1, 1: 100}</td>\n",
       "      <td>10</td>\n",
       "    </tr>\n",
       "    <tr>\n",
       "      <th>0</th>\n",
       "      <td>0.998</td>\n",
       "      <td>0.527</td>\n",
       "      <td>0.689</td>\n",
       "      <td>1.000</td>\n",
       "      <td>0.858</td>\n",
       "      <td>0.923</td>\n",
       "      <td>None</td>\n",
       "      <td>{0: 1, 1: 0.2}</td>\n",
       "      <td>10</td>\n",
       "    </tr>\n",
       "    <tr>\n",
       "      <th>1</th>\n",
       "      <td>1.000</td>\n",
       "      <td>0.527</td>\n",
       "      <td>0.690</td>\n",
       "      <td>1.000</td>\n",
       "      <td>1.000</td>\n",
       "      <td>1.000</td>\n",
       "      <td>None</td>\n",
       "      <td>{0: 1, 1: 0.2}</td>\n",
       "      <td>150</td>\n",
       "    </tr>\n",
       "  </tbody>\n",
       "</table>\n",
       "</div>"
      ],
      "text/plain": [
       "    mean_test_precision_score  mean_test_recall_score  mean_test_f1_score  \\\n",
       "15                      0.159                   0.636               0.254   \n",
       "14                      0.160                   0.633               0.255   \n",
       "16                      0.675                   0.533               0.593   \n",
       "0                       0.998                   0.527               0.689   \n",
       "1                       1.000                   0.527               0.690   \n",
       "\n",
       "    mean_train_precision_score  mean_train_recall_score  mean_train_f1_score  \\\n",
       "15                       0.164                    0.656                0.262   \n",
       "14                       0.162                    0.652                0.260   \n",
       "16                       0.759                    0.813                0.782   \n",
       "0                        1.000                    0.858                0.923   \n",
       "1                        1.000                    1.000                1.000   \n",
       "\n",
       "   param_max_depth param_class_weight param_n_estimators  \n",
       "15               5     {0: 1, 1: 100}                150  \n",
       "14               5     {0: 1, 1: 100}                 10  \n",
       "16              15     {0: 1, 1: 100}                 10  \n",
       "0             None     {0: 1, 1: 0.2}                 10  \n",
       "1             None     {0: 1, 1: 0.2}                150  "
      ]
     },
     "execution_count": 54,
     "metadata": {},
     "output_type": "execute_result"
    }
   ],
   "source": [
    "results_recall = pd.DataFrame(grid_search_rf_recall.cv_results_)\n",
    "results_sortrecall = results_recall.sort_values(by='mean_test_recall_score', ascending=False)\n",
    "# results_sortf1 = results_f1.sort_values(by='mean_test_f1_score', ascending=False)\n",
    "results_sortrecall[['mean_test_precision_score', 'mean_test_recall_score', 'mean_test_f1_score', 'mean_train_precision_score', 'mean_train_recall_score', 'mean_train_f1_score','param_max_depth', 'param_class_weight', 'param_n_estimators']].round(3).head()"
   ]
  },
  {
   "cell_type": "code",
   "execution_count": null,
   "metadata": {},
   "outputs": [],
   "source": []
  }
 ],
 "metadata": {
  "kernelspec": {
   "display_name": "Python 3",
   "language": "python",
   "name": "python3"
  },
  "language_info": {
   "codemirror_mode": {
    "name": "ipython",
    "version": 3
   },
   "file_extension": ".py",
   "mimetype": "text/x-python",
   "name": "python",
   "nbconvert_exporter": "python",
   "pygments_lexer": "ipython3",
   "version": "3.7.1"
  }
 },
 "nbformat": 4,
 "nbformat_minor": 2
}
